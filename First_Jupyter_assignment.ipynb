{
  "metadata": {
    "kernelspec": {
      "name": "python",
      "display_name": "Python (Pyodide)",
      "language": "python"
    },
    "language_info": {
      "codemirror_mode": {
        "name": "python",
        "version": 3
      },
      "file_extension": ".py",
      "mimetype": "text/x-python",
      "name": "python",
      "nbconvert_exporter": "python",
      "pygments_lexer": "ipython3",
      "version": "3.8"
    }
  },
  "nbformat_minor": 5,
  "nbformat": 4,
  "cells": [
    {
      "cell_type": "markdown",
      "source": "# My Jupyter Notebook on IBM Watson Studio\n# **Nikan Mehrara**\nData Scientist\n*I am interested in data scientist because data is gold and data scientists are gold miners.*\n### My code is going to multiply 2 and 3",
      "metadata": {},
      "id": "a38f1818-9681-4ead-9cba-397ed2a2c75f"
    },
    {
      "cell_type": "code",
      "source": "2 * 3",
      "metadata": {},
      "execution_count": null,
      "outputs": [],
      "id": "b6585385-3cac-430f-836a-a627fa93f9bf"
    },
    {
      "cell_type": "markdown",
      "source": "- First\n- Second\n- Third\n---\n1. First_item\n2. Second_item\n3. Third_item\n---\n[Google](https://www.google.com)\n---\n```python\ndef add(5, 6):\n    return 5 + 6",
      "metadata": {},
      "id": "7bb3a3ee-e6e5-43e4-b07a-9443a7753311"
    }
  ]
}