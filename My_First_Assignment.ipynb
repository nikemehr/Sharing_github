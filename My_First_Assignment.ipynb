{
  "metadata": {
    "kernelspec": {
      "name": "python",
      "display_name": "Python (Pyodide)",
      "language": "python"
    },
    "language_info": {
      "codemirror_mode": {
        "name": "python",
        "version": 3
      },
      "file_extension": ".py",
      "mimetype": "text/x-python",
      "name": "python",
      "nbconvert_exporter": "python",
      "pygments_lexer": "ipython3",
      "version": "3.8"
    }
  },
  "nbformat_minor": 5,
  "nbformat": 4,
  "cells": [
    {
      "cell_type": "markdown",
      "source": "# My Jupyter Notebook on IBM Watson Studio",
      "metadata": {},
      "id": "309d5cc8-d90c-4fdf-80f4-d0f37e495669"
    },
    {
      "cell_type": "markdown",
      "source": "# **Nikan Mehrara**\nData Scientist",
      "metadata": {},
      "id": "76bebc5d-c6e7-4231-b199-9e53ca56763c"
    },
    {
      "cell_type": "markdown",
      "source": "*I am interested in data scientist because data is gold and data scientists are gold miners.*",
      "metadata": {},
      "id": "4b7ec8e5-521a-4bb2-8b20-66efe73a0a0e"
    },
    {
      "cell_type": "markdown",
      "source": "### My code is going to multiply 2 and 3",
      "metadata": {},
      "id": "21335a20-6382-445a-a106-6167d5c2e3bd"
    },
    {
      "cell_type": "code",
      "source": "2*3",
      "metadata": {},
      "execution_count": null,
      "outputs": [],
      "id": "d26c7310-6404-413a-ac79-2907fdec5f1f"
    },
    {
      "cell_type": "markdown",
      "source": "- First\n- Second\n- Third\n---\n1. First_item\n2. Second_item\n3. Third_item\n---\n[Google](https://www.google.com)",
      "metadata": {},
      "id": "aa24bf48-2c6d-4ecb-94cd-b5c69d4327a4"
    }
  ]
}